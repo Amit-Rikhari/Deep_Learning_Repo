{
  "nbformat": 4,
  "nbformat_minor": 0,
  "metadata": {
    "colab": {
      "provenance": [],
      "gpuType": "T4",
      "authorship_tag": "ABX9TyPPm6cPfHNxpeiQlTNyygmf"
    },
    "kernelspec": {
      "name": "python3",
      "display_name": "Python 3"
    },
    "language_info": {
      "name": "python"
    },
    "accelerator": "GPU"
  },
  "cells": [
    {
      "cell_type": "markdown",
      "source": [
        "<h1>Next_word_predictor_LSTM_Mini_project</h1>"
      ],
      "metadata": {
        "id": "q1D5kmbTLomQ"
      }
    },
    {
      "cell_type": "code",
      "source": [
        "faq = \"\"\"\n",
        "Frequently Asked Questions (FAQ) - Product Purchase\n",
        "\n",
        "How can I place an order?\n",
        "You can place an order by visiting our website and adding products to your cart. Once you're ready, proceed to checkout and follow the on-screen instructions.\n",
        "\n",
        "What payment methods do you accept?\n",
        "We accept various payment methods including credit/debit cards, PayPal, and bank transfers.\n",
        "\n",
        "How can I track my order?\n",
        "After your order is shipped, you will receive a tracking number via email. You can use this number on our website's tracking page to check the status of your delivery.\n",
        "\n",
        "What is your return policy?\n",
        "We offer a 30-day return policy for unused and unopened products. If you wish to return a product, please contact our customer service for assistance.\n",
        "\n",
        "How long does shipping take?\n",
        "Shipping times vary depending on your location. Typically, it takes 5-7 business days for domestic orders and 10-15 business days for international orders.\n",
        "\n",
        "Do you offer international shipping?\n",
        "Yes, we ship to most countries worldwide. Please note that shipping fees and delivery times may vary based on your location.\n",
        "\n",
        "Can I change or cancel my order?\n",
        "Orders can be changed or canceled within 24 hours of placing them. Please contact our customer service as soon as possible if you need to make changes.\n",
        "\n",
        "What should I do if I receive a damaged or defective product?\n",
        "If you receive a damaged or defective product, please contact our customer service immediately. We will assist you in returning the product and arranging a replacement or refund.\n",
        "\n",
        "How can I contact customer service?\n",
        "You can contact our customer service team via email at support@example.com or by calling 1-800-123-4567.\n",
        "\n",
        "Do you offer discounts for bulk purchases?\n",
        "Yes, we offer discounts for bulk purchases. Please contact our sales team at sales@example.com for more information.\n",
        "\n",
        "If you have any other questions, please feel free to reach out to us. We are here to help!\n",
        "\"\"\"\n"
      ],
      "metadata": {
        "id": "mtMKbXWl7CdJ"
      },
      "execution_count": null,
      "outputs": []
    },
    {
      "cell_type": "code",
      "execution_count": null,
      "metadata": {
        "id": "E_6ifUauLNp5"
      },
      "outputs": [],
      "source": [
        "import tensorflow as tf\n",
        "from tensorflow.keras.preprocessing.text import Tokenizer"
      ]
    },
    {
      "cell_type": "code",
      "source": [
        "tokenizer= Tokenizer()\n"
      ],
      "metadata": {
        "id": "WarezdIe6XP9"
      },
      "execution_count": null,
      "outputs": []
    },
    {
      "cell_type": "code",
      "source": [
        "tokenizer.fit_on_texts([faq])"
      ],
      "metadata": {
        "id": "Egecwf6n6dym"
      },
      "execution_count": null,
      "outputs": []
    },
    {
      "cell_type": "code",
      "source": [
        "len(tokenizer.word_index)"
      ],
      "metadata": {
        "colab": {
          "base_uri": "https://localhost:8080/"
        },
        "id": "NdeYnViQ6yZ5",
        "outputId": "8e0edd44-14aa-4558-e128-ddcb5291413d"
      },
      "execution_count": null,
      "outputs": [
        {
          "output_type": "execute_result",
          "data": {
            "text/plain": [
              "166"
            ]
          },
          "metadata": {},
          "execution_count": 5
        }
      ]
    },
    {
      "cell_type": "code",
      "source": [
        "inpu_seq=[]\n",
        "for sentence in faq.split('\\n'):\n",
        "   token_se= tokenizer.texts_to_sequences([sentence])[0]\n",
        "   for i in range(1,len(token_se)):\n",
        "     inpu_seq.append(token_se[:i+1])"
      ],
      "metadata": {
        "id": "1-jStxzq7bNM"
      },
      "execution_count": null,
      "outputs": []
    },
    {
      "cell_type": "code",
      "source": [
        "max_len=max([len(x) for x in inpu_seq])\n",
        "max_len"
      ],
      "metadata": {
        "colab": {
          "base_uri": "https://localhost:8080/"
        },
        "id": "tdT9CUU97705",
        "outputId": "102cb25e-ad23-412d-b4e6-7ebbde129a23"
      },
      "execution_count": null,
      "outputs": [
        {
          "output_type": "execute_result",
          "data": {
            "text/plain": [
              "30"
            ]
          },
          "metadata": {},
          "execution_count": 7
        }
      ]
    },
    {
      "cell_type": "code",
      "source": [
        "from tensorflow.keras.preprocessing.sequence import pad_sequences\n",
        "pad_in_sequences=pad_sequences(inpu_seq,maxlen=max_len,padding='pre')"
      ],
      "metadata": {
        "id": "mG1Tbd0R9EpF"
      },
      "execution_count": null,
      "outputs": []
    },
    {
      "cell_type": "code",
      "source": [
        "X= pad_in_sequences[:,:-1]"
      ],
      "metadata": {
        "id": "qRDckXYX-G1r"
      },
      "execution_count": null,
      "outputs": []
    },
    {
      "cell_type": "code",
      "source": [
        "X.shape"
      ],
      "metadata": {
        "colab": {
          "base_uri": "https://localhost:8080/"
        },
        "id": "D5dDJfS9-lmC",
        "outputId": "6ffda123-6dfd-4dfa-fcc7-56da823246c5"
      },
      "execution_count": null,
      "outputs": [
        {
          "output_type": "execute_result",
          "data": {
            "text/plain": [
              "(304, 29)"
            ]
          },
          "metadata": {},
          "execution_count": 10
        }
      ]
    },
    {
      "cell_type": "code",
      "source": [
        "y=pad_in_sequences[:,-1]"
      ],
      "metadata": {
        "id": "AMBDswmD-pFN"
      },
      "execution_count": null,
      "outputs": []
    },
    {
      "cell_type": "code",
      "source": [
        "len(y)"
      ],
      "metadata": {
        "colab": {
          "base_uri": "https://localhost:8080/"
        },
        "id": "tB71HiLg-vkx",
        "outputId": "2b72490b-b219-4c04-bf18-8d5d80145912"
      },
      "execution_count": null,
      "outputs": [
        {
          "output_type": "execute_result",
          "data": {
            "text/plain": [
              "304"
            ]
          },
          "metadata": {},
          "execution_count": 12
        }
      ]
    },
    {
      "cell_type": "code",
      "source": [
        "X.shape"
      ],
      "metadata": {
        "colab": {
          "base_uri": "https://localhost:8080/"
        },
        "id": "NukSi4P7-xtF",
        "outputId": "3110fe4a-d040-4d3d-fb32-769d2a2a3f02"
      },
      "execution_count": null,
      "outputs": [
        {
          "output_type": "execute_result",
          "data": {
            "text/plain": [
              "(304, 29)"
            ]
          },
          "metadata": {},
          "execution_count": 13
        }
      ]
    },
    {
      "cell_type": "code",
      "source": [
        "from tensorflow.keras.utils import to_categorical\n",
        "y_OHE=to_categorical(y,num_classes=167)"
      ],
      "metadata": {
        "id": "tAqw4f1u_dsX"
      },
      "execution_count": null,
      "outputs": []
    },
    {
      "cell_type": "code",
      "source": [
        "y_OHE.shape"
      ],
      "metadata": {
        "colab": {
          "base_uri": "https://localhost:8080/"
        },
        "id": "eLRoDmw5AF2i",
        "outputId": "58b7075f-3d26-4d26-ec93-e7de761e7b46"
      },
      "execution_count": null,
      "outputs": [
        {
          "output_type": "execute_result",
          "data": {
            "text/plain": [
              "(304, 167)"
            ]
          },
          "metadata": {},
          "execution_count": 15
        }
      ]
    },
    {
      "cell_type": "code",
      "source": [
        "from tensorflow.keras.models import Sequential\n",
        "from tensorflow.keras.layers import Embedding,LSTM,Dense"
      ],
      "metadata": {
        "id": "FzWtzdCEAOxb"
      },
      "execution_count": null,
      "outputs": []
    },
    {
      "cell_type": "code",
      "source": [
        "model=Sequential()\n",
        "model.add(Embedding(167,100,input_length=29))\n",
        "model.add(LSTM(150))\n",
        "model.add(Dense(167,activation='softmax'))\n"
      ],
      "metadata": {
        "id": "cONafYAxAcye"
      },
      "execution_count": null,
      "outputs": []
    },
    {
      "cell_type": "code",
      "source": [
        "model.compile(loss='categorical_crossentropy',optimizer='adam',metrics=['accuracy'])"
      ],
      "metadata": {
        "id": "V8-YSvX1H6n1"
      },
      "execution_count": null,
      "outputs": []
    },
    {
      "cell_type": "code",
      "source": [
        "model.summary()"
      ],
      "metadata": {
        "colab": {
          "base_uri": "https://localhost:8080/"
        },
        "id": "DBV0uLVgBRK6",
        "outputId": "380b3cf5-176e-420f-a189-3683772ba8f0"
      },
      "execution_count": null,
      "outputs": [
        {
          "output_type": "stream",
          "name": "stdout",
          "text": [
            "Model: \"sequential\"\n",
            "_________________________________________________________________\n",
            " Layer (type)                Output Shape              Param #   \n",
            "=================================================================\n",
            " embedding (Embedding)       (None, 29, 100)           16700     \n",
            "                                                                 \n",
            " lstm (LSTM)                 (None, 150)               150600    \n",
            "                                                                 \n",
            " dense (Dense)               (None, 167)               25217     \n",
            "                                                                 \n",
            "=================================================================\n",
            "Total params: 192517 (752.02 KB)\n",
            "Trainable params: 192517 (752.02 KB)\n",
            "Non-trainable params: 0 (0.00 Byte)\n",
            "_________________________________________________________________\n"
          ]
        }
      ]
    },
    {
      "cell_type": "code",
      "source": [
        "tf.config.run_functions_eagerly(True)\n"
      ],
      "metadata": {
        "id": "XPcGNrgOIfKA"
      },
      "execution_count": null,
      "outputs": []
    },
    {
      "cell_type": "code",
      "source": [],
      "metadata": {
        "id": "njYUWnlEIgTX"
      },
      "execution_count": null,
      "outputs": []
    },
    {
      "cell_type": "code",
      "source": [
        "model.fit(X,y_OHE,epochs=100)"
      ],
      "metadata": {
        "colab": {
          "base_uri": "https://localhost:8080/"
        },
        "id": "1MXQ-6EPB62l",
        "outputId": "39e13b00-e109-4ccb-ae5f-d1a2e7a2913e"
      },
      "execution_count": null,
      "outputs": [
        {
          "output_type": "stream",
          "name": "stdout",
          "text": [
            "Epoch 1/100\n"
          ]
        },
        {
          "output_type": "stream",
          "name": "stderr",
          "text": [
            "/usr/local/lib/python3.10/dist-packages/tensorflow/python/data/ops/structured_function.py:258: UserWarning: Even though the `tf.config.experimental_run_functions_eagerly` option is set, this option does not apply to tf.data functions. To force eager execution of tf.data functions, please use `tf.data.experimental.enable_debug_mode()`.\n",
            "  warnings.warn(\n"
          ]
        },
        {
          "output_type": "stream",
          "name": "stdout",
          "text": [
            "10/10 [==============================] - 3s 47ms/step - loss: 5.1127 - accuracy: 0.0164\n",
            "Epoch 2/100\n",
            "10/10 [==============================] - 0s 42ms/step - loss: 5.0034 - accuracy: 0.0263\n",
            "Epoch 3/100\n",
            "10/10 [==============================] - 0s 43ms/step - loss: 4.8890 - accuracy: 0.0230\n",
            "Epoch 4/100\n",
            "10/10 [==============================] - 1s 59ms/step - loss: 4.8176 - accuracy: 0.0329\n",
            "Epoch 5/100\n",
            "10/10 [==============================] - 1s 55ms/step - loss: 4.7642 - accuracy: 0.0329\n",
            "Epoch 6/100\n",
            "10/10 [==============================] - 1s 63ms/step - loss: 4.6897 - accuracy: 0.0658\n",
            "Epoch 7/100\n",
            "10/10 [==============================] - 1s 64ms/step - loss: 4.5952 - accuracy: 0.0493\n",
            "Epoch 8/100\n",
            "10/10 [==============================] - 0s 41ms/step - loss: 4.5342 - accuracy: 0.0461\n",
            "Epoch 9/100\n",
            "10/10 [==============================] - 0s 45ms/step - loss: 4.4477 - accuracy: 0.0526\n",
            "Epoch 10/100\n",
            "10/10 [==============================] - 0s 40ms/step - loss: 4.3741 - accuracy: 0.0625\n",
            "Epoch 11/100\n",
            "10/10 [==============================] - 0s 42ms/step - loss: 4.2952 - accuracy: 0.0691\n",
            "Epoch 12/100\n",
            "10/10 [==============================] - 0s 41ms/step - loss: 4.2132 - accuracy: 0.0822\n",
            "Epoch 13/100\n",
            "10/10 [==============================] - 0s 42ms/step - loss: 4.1079 - accuracy: 0.0987\n",
            "Epoch 14/100\n",
            "10/10 [==============================] - 0s 43ms/step - loss: 3.9874 - accuracy: 0.1118\n",
            "Epoch 15/100\n",
            "10/10 [==============================] - 0s 41ms/step - loss: 3.8604 - accuracy: 0.1513\n",
            "Epoch 16/100\n",
            "10/10 [==============================] - 0s 42ms/step - loss: 3.7381 - accuracy: 0.1447\n",
            "Epoch 17/100\n",
            "10/10 [==============================] - 0s 42ms/step - loss: 3.6013 - accuracy: 0.1579\n",
            "Epoch 18/100\n",
            "10/10 [==============================] - 0s 42ms/step - loss: 3.4289 - accuracy: 0.1875\n",
            "Epoch 19/100\n",
            "10/10 [==============================] - 0s 43ms/step - loss: 3.2884 - accuracy: 0.2204\n",
            "Epoch 20/100\n",
            "10/10 [==============================] - 0s 46ms/step - loss: 3.1544 - accuracy: 0.2072\n",
            "Epoch 21/100\n",
            "10/10 [==============================] - 1s 66ms/step - loss: 2.9933 - accuracy: 0.2632\n",
            "Epoch 22/100\n",
            "10/10 [==============================] - 1s 80ms/step - loss: 2.8734 - accuracy: 0.2895\n",
            "Epoch 23/100\n",
            "10/10 [==============================] - 1s 72ms/step - loss: 2.7515 - accuracy: 0.3191\n",
            "Epoch 24/100\n",
            "10/10 [==============================] - 1s 79ms/step - loss: 2.6277 - accuracy: 0.3553\n",
            "Epoch 25/100\n",
            "10/10 [==============================] - 1s 73ms/step - loss: 2.5151 - accuracy: 0.3816\n",
            "Epoch 26/100\n",
            "10/10 [==============================] - 1s 71ms/step - loss: 2.4034 - accuracy: 0.4276\n",
            "Epoch 27/100\n",
            "10/10 [==============================] - 1s 78ms/step - loss: 2.2990 - accuracy: 0.4112\n",
            "Epoch 28/100\n",
            "10/10 [==============================] - 1s 73ms/step - loss: 2.2063 - accuracy: 0.4671\n",
            "Epoch 29/100\n",
            "10/10 [==============================] - 1s 78ms/step - loss: 2.1087 - accuracy: 0.4934\n",
            "Epoch 30/100\n",
            "10/10 [==============================] - 1s 83ms/step - loss: 2.0052 - accuracy: 0.5395\n",
            "Epoch 31/100\n",
            "10/10 [==============================] - 1s 90ms/step - loss: 1.9219 - accuracy: 0.5592\n",
            "Epoch 32/100\n",
            "10/10 [==============================] - 1s 81ms/step - loss: 1.8494 - accuracy: 0.5888\n",
            "Epoch 33/100\n",
            "10/10 [==============================] - 1s 77ms/step - loss: 1.7721 - accuracy: 0.6184\n",
            "Epoch 34/100\n",
            "10/10 [==============================] - 1s 73ms/step - loss: 1.6877 - accuracy: 0.6711\n",
            "Epoch 35/100\n",
            "10/10 [==============================] - 1s 71ms/step - loss: 1.6242 - accuracy: 0.6908\n",
            "Epoch 36/100\n",
            "10/10 [==============================] - 1s 59ms/step - loss: 1.5577 - accuracy: 0.7434\n",
            "Epoch 37/100\n",
            "10/10 [==============================] - 1s 69ms/step - loss: 1.4938 - accuracy: 0.7434\n",
            "Epoch 38/100\n",
            "10/10 [==============================] - 1s 69ms/step - loss: 1.4398 - accuracy: 0.7632\n",
            "Epoch 39/100\n",
            "10/10 [==============================] - 1s 68ms/step - loss: 1.3811 - accuracy: 0.7961\n",
            "Epoch 40/100\n",
            "10/10 [==============================] - 1s 70ms/step - loss: 1.3364 - accuracy: 0.7796\n",
            "Epoch 41/100\n",
            "10/10 [==============================] - 1s 78ms/step - loss: 1.2843 - accuracy: 0.8158\n",
            "Epoch 42/100\n",
            "10/10 [==============================] - 1s 71ms/step - loss: 1.2282 - accuracy: 0.8520\n",
            "Epoch 43/100\n",
            "10/10 [==============================] - 1s 67ms/step - loss: 1.1801 - accuracy: 0.8651\n",
            "Epoch 44/100\n",
            "10/10 [==============================] - 0s 44ms/step - loss: 1.1320 - accuracy: 0.8717\n",
            "Epoch 45/100\n",
            "10/10 [==============================] - 0s 42ms/step - loss: 1.0825 - accuracy: 0.8947\n",
            "Epoch 46/100\n",
            "10/10 [==============================] - 1s 74ms/step - loss: 1.0277 - accuracy: 0.9145\n",
            "Epoch 47/100\n",
            "10/10 [==============================] - 1s 79ms/step - loss: 0.9922 - accuracy: 0.9046\n",
            "Epoch 48/100\n",
            "10/10 [==============================] - 1s 77ms/step - loss: 0.9516 - accuracy: 0.9178\n",
            "Epoch 49/100\n",
            "10/10 [==============================] - 1s 86ms/step - loss: 0.9151 - accuracy: 0.9178\n",
            "Epoch 50/100\n",
            "10/10 [==============================] - 1s 67ms/step - loss: 0.8819 - accuracy: 0.9243\n",
            "Epoch 51/100\n",
            "10/10 [==============================] - 1s 60ms/step - loss: 0.8480 - accuracy: 0.9375\n",
            "Epoch 52/100\n",
            "10/10 [==============================] - 1s 58ms/step - loss: 0.8062 - accuracy: 0.9375\n",
            "Epoch 53/100\n",
            "10/10 [==============================] - 1s 60ms/step - loss: 0.7816 - accuracy: 0.9276\n",
            "Epoch 54/100\n",
            "10/10 [==============================] - 1s 57ms/step - loss: 0.7434 - accuracy: 0.9375\n",
            "Epoch 55/100\n",
            "10/10 [==============================] - 1s 65ms/step - loss: 0.7173 - accuracy: 0.9507\n",
            "Epoch 56/100\n",
            "10/10 [==============================] - 1s 62ms/step - loss: 0.6834 - accuracy: 0.9474\n",
            "Epoch 57/100\n",
            "10/10 [==============================] - 1s 58ms/step - loss: 0.6645 - accuracy: 0.9375\n",
            "Epoch 58/100\n",
            "10/10 [==============================] - 1s 59ms/step - loss: 0.6366 - accuracy: 0.9408\n",
            "Epoch 59/100\n",
            "10/10 [==============================] - 1s 59ms/step - loss: 0.6099 - accuracy: 0.9474\n",
            "Epoch 60/100\n",
            "10/10 [==============================] - 1s 59ms/step - loss: 0.5818 - accuracy: 0.9539\n",
            "Epoch 61/100\n",
            "10/10 [==============================] - 1s 55ms/step - loss: 0.5626 - accuracy: 0.9474\n",
            "Epoch 62/100\n",
            "10/10 [==============================] - 0s 41ms/step - loss: 0.5403 - accuracy: 0.9539\n",
            "Epoch 63/100\n",
            "10/10 [==============================] - 0s 42ms/step - loss: 0.5231 - accuracy: 0.9539\n",
            "Epoch 64/100\n",
            "10/10 [==============================] - 0s 43ms/step - loss: 0.5078 - accuracy: 0.9507\n",
            "Epoch 65/100\n",
            "10/10 [==============================] - 0s 42ms/step - loss: 0.4943 - accuracy: 0.9474\n",
            "Epoch 66/100\n",
            "10/10 [==============================] - 0s 45ms/step - loss: 0.4792 - accuracy: 0.9572\n",
            "Epoch 67/100\n",
            "10/10 [==============================] - 0s 42ms/step - loss: 0.4547 - accuracy: 0.9572\n",
            "Epoch 68/100\n",
            "10/10 [==============================] - 0s 49ms/step - loss: 0.4428 - accuracy: 0.9605\n",
            "Epoch 69/100\n",
            "10/10 [==============================] - 1s 60ms/step - loss: 0.4274 - accuracy: 0.9539\n",
            "Epoch 70/100\n",
            "10/10 [==============================] - 1s 66ms/step - loss: 0.4113 - accuracy: 0.9605\n",
            "Epoch 71/100\n",
            "10/10 [==============================] - 1s 69ms/step - loss: 0.4073 - accuracy: 0.9605\n",
            "Epoch 72/100\n",
            "10/10 [==============================] - 1s 48ms/step - loss: 0.3906 - accuracy: 0.9572\n",
            "Epoch 73/100\n",
            "10/10 [==============================] - 0s 44ms/step - loss: 0.3761 - accuracy: 0.9539\n",
            "Epoch 74/100\n",
            "10/10 [==============================] - 0s 41ms/step - loss: 0.3613 - accuracy: 0.9572\n",
            "Epoch 75/100\n",
            "10/10 [==============================] - 0s 42ms/step - loss: 0.3507 - accuracy: 0.9638\n",
            "Epoch 76/100\n",
            "10/10 [==============================] - 0s 43ms/step - loss: 0.3418 - accuracy: 0.9539\n",
            "Epoch 77/100\n",
            "10/10 [==============================] - 0s 44ms/step - loss: 0.3327 - accuracy: 0.9605\n",
            "Epoch 78/100\n",
            "10/10 [==============================] - 0s 44ms/step - loss: 0.3200 - accuracy: 0.9572\n",
            "Epoch 79/100\n",
            "10/10 [==============================] - 0s 43ms/step - loss: 0.3122 - accuracy: 0.9671\n",
            "Epoch 80/100\n",
            "10/10 [==============================] - 0s 47ms/step - loss: 0.3046 - accuracy: 0.9638\n",
            "Epoch 81/100\n",
            "10/10 [==============================] - 0s 43ms/step - loss: 0.2935 - accuracy: 0.9605\n",
            "Epoch 82/100\n",
            "10/10 [==============================] - 0s 46ms/step - loss: 0.2881 - accuracy: 0.9638\n",
            "Epoch 83/100\n",
            "10/10 [==============================] - 0s 43ms/step - loss: 0.2798 - accuracy: 0.9572\n",
            "Epoch 84/100\n",
            "10/10 [==============================] - 1s 50ms/step - loss: 0.2697 - accuracy: 0.9638\n",
            "Epoch 85/100\n",
            "10/10 [==============================] - 0s 42ms/step - loss: 0.2637 - accuracy: 0.9605\n",
            "Epoch 86/100\n",
            "10/10 [==============================] - 0s 43ms/step - loss: 0.2573 - accuracy: 0.9605\n",
            "Epoch 87/100\n",
            "10/10 [==============================] - 0s 45ms/step - loss: 0.2538 - accuracy: 0.9605\n",
            "Epoch 88/100\n",
            "10/10 [==============================] - 0s 45ms/step - loss: 0.2446 - accuracy: 0.9605\n",
            "Epoch 89/100\n",
            "10/10 [==============================] - 0s 45ms/step - loss: 0.2390 - accuracy: 0.9539\n",
            "Epoch 90/100\n",
            "10/10 [==============================] - 0s 44ms/step - loss: 0.2332 - accuracy: 0.9507\n",
            "Epoch 91/100\n",
            "10/10 [==============================] - 0s 45ms/step - loss: 0.2269 - accuracy: 0.9507\n",
            "Epoch 92/100\n",
            "10/10 [==============================] - 0s 42ms/step - loss: 0.2222 - accuracy: 0.9638\n",
            "Epoch 93/100\n",
            "10/10 [==============================] - 0s 47ms/step - loss: 0.2196 - accuracy: 0.9539\n",
            "Epoch 94/100\n",
            "10/10 [==============================] - 0s 49ms/step - loss: 0.2146 - accuracy: 0.9605\n",
            "Epoch 95/100\n",
            "10/10 [==============================] - 1s 65ms/step - loss: 0.2090 - accuracy: 0.9605\n",
            "Epoch 96/100\n",
            "10/10 [==============================] - 1s 60ms/step - loss: 0.2033 - accuracy: 0.9572\n",
            "Epoch 97/100\n",
            "10/10 [==============================] - 1s 74ms/step - loss: 0.1997 - accuracy: 0.9671\n",
            "Epoch 98/100\n",
            "10/10 [==============================] - 1s 53ms/step - loss: 0.1974 - accuracy: 0.9638\n",
            "Epoch 99/100\n",
            "10/10 [==============================] - 0s 44ms/step - loss: 0.1923 - accuracy: 0.9638\n",
            "Epoch 100/100\n",
            "10/10 [==============================] - 0s 47ms/step - loss: 0.1923 - accuracy: 0.9605\n"
          ]
        },
        {
          "output_type": "execute_result",
          "data": {
            "text/plain": [
              "<keras.src.callbacks.History at 0x7933837427a0>"
            ]
          },
          "metadata": {},
          "execution_count": 21
        }
      ]
    },
    {
      "cell_type": "code",
      "source": [
        "import numpy as np\n",
        "text= 'depending'\n",
        "for i in range(5):\n",
        "  token=tokenizer.texts_to_sequences([text])[0]\n",
        "  pad= pad_sequences([token],maxlen=29,padding='pre')\n",
        "\n",
        "  ps= np.argmax(model.predict(pad))\n",
        "  for w, i in tokenizer.word_index.items():\n",
        "    if i==ps:\n",
        "      text= text+' '+ w\n",
        "      print(text)"
      ],
      "metadata": {
        "colab": {
          "base_uri": "https://localhost:8080/"
        },
        "id": "4Vp_P59nC_Dk",
        "outputId": "652763c6-8a8b-40a8-e0e3-742b516dec63"
      },
      "execution_count": null,
      "outputs": [
        {
          "output_type": "stream",
          "name": "stdout",
          "text": [
            "1/1 [==============================] - 0s 24ms/step\n",
            "depending bank\n",
            "1/1 [==============================] - 0s 23ms/step\n",
            "depending bank to\n",
            "1/1 [==============================] - 0s 23ms/step\n",
            "depending bank to worldwide\n",
            "1/1 [==============================] - 0s 23ms/step\n",
            "depending bank to worldwide contact\n",
            "1/1 [==============================] - 0s 23ms/step\n",
            "depending bank to worldwide contact contact\n"
          ]
        }
      ]
    },
    {
      "cell_type": "code",
      "source": [],
      "metadata": {
        "id": "huXadikAFOeu"
      },
      "execution_count": null,
      "outputs": []
    }
  ]
}